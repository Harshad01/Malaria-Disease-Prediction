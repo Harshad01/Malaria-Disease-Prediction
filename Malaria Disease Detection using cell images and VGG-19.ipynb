{
 "cells": [
  {
   "cell_type": "code",
   "execution_count": 1,
   "id": "29f96b1a",
   "metadata": {},
   "outputs": [
    {
     "name": "stdout",
     "output_type": "stream",
     "text": [
      "[name: \"/device:CPU:0\"\n",
      "device_type: \"CPU\"\n",
      "memory_limit: 268435456\n",
      "locality {\n",
      "}\n",
      "incarnation: 11996910963595104795\n",
      ", name: \"/device:GPU:0\"\n",
      "device_type: \"GPU\"\n",
      "memory_limit: 2907098318\n",
      "locality {\n",
      "  bus_id: 1\n",
      "  links {\n",
      "  }\n",
      "}\n",
      "incarnation: 995982419158364434\n",
      "physical_device_desc: \"device: 0, name: NVIDIA GeForce GTX 1050 Ti, pci bus id: 0000:01:00.0, compute capability: 6.1\"\n",
      "]\n"
     ]
    }
   ],
   "source": [
    "from tensorflow.python.client import device_lib\n",
    "print(device_lib.list_local_devices())\n"
   ]
  },
  {
   "cell_type": "markdown",
   "id": "131cf725",
   "metadata": {},
   "source": [
    "## Importing Libraries"
   ]
  },
  {
   "cell_type": "code",
   "execution_count": 2,
   "id": "56c8184b",
   "metadata": {},
   "outputs": [],
   "source": [
    "\n",
    "# import the libraries as shown below\n",
    "\n",
    "from tensorflow.keras.layers import Input, Lambda, Dense, Flatten,Conv2D\n",
    "from tensorflow.keras.models import Model\n",
    "from tensorflow.keras.applications.vgg19 import VGG19\n",
    "from tensorflow.keras.applications.resnet50 import preprocess_input\n",
    "from tensorflow.keras.preprocessing import image\n",
    "from tensorflow.keras.preprocessing.image import ImageDataGenerator,load_img\n",
    "from tensorflow.keras.models import Sequential\n",
    "import numpy as np\n",
    "from glob import glob\n",
    "import matplotlib.pyplot as plt"
   ]
  },
  {
   "cell_type": "code",
   "execution_count": 3,
   "id": "c3d2c47f",
   "metadata": {},
   "outputs": [],
   "source": [
    "# re-size all the images to this\n",
    "IMAGE_SIZE = [224, 224]\n",
    "\n",
    "train_path = \"E:\\Malaria Dataset\\Dataset\\Train\"\n",
    "valid_path = \"E:\\Malaria Dataset\\Dataset\\Test\""
   ]
  },
  {
   "cell_type": "markdown",
   "id": "79cffeaf",
   "metadata": {},
   "source": [
    "## Importing VGG-19 Library and model"
   ]
  },
  {
   "cell_type": "code",
   "execution_count": 4,
   "id": "65a4edb5",
   "metadata": {},
   "outputs": [],
   "source": [
    "# Import the Vgg 19 library as shown below and add preprocessing layer to the front of VGG\n",
    "# Here we will be using imagenet weights\n",
    "\n",
    "vgg19 = VGG19(input_shape=IMAGE_SIZE + [3], weights='imagenet', include_top=False)"
   ]
  },
  {
   "cell_type": "code",
   "execution_count": 5,
   "id": "fc02ea5a",
   "metadata": {},
   "outputs": [],
   "source": [
    "# don't train existing weights\n",
    "for layer in vgg19.layers:\n",
    "    layer.trainable = False"
   ]
  },
  {
   "cell_type": "code",
   "execution_count": 6,
   "id": "5c317b01",
   "metadata": {},
   "outputs": [],
   "source": [
    "# useful for getting number of output classes\n",
    "folders = glob(\"E:\\Malaria Dataset\\Dataset\\Train\\*\")"
   ]
  },
  {
   "cell_type": "code",
   "execution_count": 7,
   "id": "80a05b5c",
   "metadata": {},
   "outputs": [
    {
     "data": {
      "text/plain": [
       "['E:\\\\Malaria Dataset\\\\Dataset\\\\Train\\\\Parasite',\n",
       " 'E:\\\\Malaria Dataset\\\\Dataset\\\\Train\\\\Uninfected']"
      ]
     },
     "execution_count": 7,
     "metadata": {},
     "output_type": "execute_result"
    }
   ],
   "source": [
    "folders"
   ]
  },
  {
   "cell_type": "code",
   "execution_count": 8,
   "id": "bfb83606",
   "metadata": {},
   "outputs": [],
   "source": [
    "# our layers - you can add more if you want\n",
    "x = Flatten()(vgg19.output)"
   ]
  },
  {
   "cell_type": "code",
   "execution_count": 9,
   "id": "cca1c7f9",
   "metadata": {},
   "outputs": [],
   "source": [
    "prediction = Dense(len(folders), activation='softmax')(x)\n",
    "\n",
    "# create a model object\n",
    "model = Model(inputs=vgg19.input, outputs=prediction)"
   ]
  },
  {
   "cell_type": "code",
   "execution_count": 10,
   "id": "a6d513cc",
   "metadata": {},
   "outputs": [
    {
     "name": "stdout",
     "output_type": "stream",
     "text": [
      "Model: \"model\"\n",
      "_________________________________________________________________\n",
      "Layer (type)                 Output Shape              Param #   \n",
      "=================================================================\n",
      "input_1 (InputLayer)         [(None, 224, 224, 3)]     0         \n",
      "_________________________________________________________________\n",
      "block1_conv1 (Conv2D)        (None, 224, 224, 64)      1792      \n",
      "_________________________________________________________________\n",
      "block1_conv2 (Conv2D)        (None, 224, 224, 64)      36928     \n",
      "_________________________________________________________________\n",
      "block1_pool (MaxPooling2D)   (None, 112, 112, 64)      0         \n",
      "_________________________________________________________________\n",
      "block2_conv1 (Conv2D)        (None, 112, 112, 128)     73856     \n",
      "_________________________________________________________________\n",
      "block2_conv2 (Conv2D)        (None, 112, 112, 128)     147584    \n",
      "_________________________________________________________________\n",
      "block2_pool (MaxPooling2D)   (None, 56, 56, 128)       0         \n",
      "_________________________________________________________________\n",
      "block3_conv1 (Conv2D)        (None, 56, 56, 256)       295168    \n",
      "_________________________________________________________________\n",
      "block3_conv2 (Conv2D)        (None, 56, 56, 256)       590080    \n",
      "_________________________________________________________________\n",
      "block3_conv3 (Conv2D)        (None, 56, 56, 256)       590080    \n",
      "_________________________________________________________________\n",
      "block3_conv4 (Conv2D)        (None, 56, 56, 256)       590080    \n",
      "_________________________________________________________________\n",
      "block3_pool (MaxPooling2D)   (None, 28, 28, 256)       0         \n",
      "_________________________________________________________________\n",
      "block4_conv1 (Conv2D)        (None, 28, 28, 512)       1180160   \n",
      "_________________________________________________________________\n",
      "block4_conv2 (Conv2D)        (None, 28, 28, 512)       2359808   \n",
      "_________________________________________________________________\n",
      "block4_conv3 (Conv2D)        (None, 28, 28, 512)       2359808   \n",
      "_________________________________________________________________\n",
      "block4_conv4 (Conv2D)        (None, 28, 28, 512)       2359808   \n",
      "_________________________________________________________________\n",
      "block4_pool (MaxPooling2D)   (None, 14, 14, 512)       0         \n",
      "_________________________________________________________________\n",
      "block5_conv1 (Conv2D)        (None, 14, 14, 512)       2359808   \n",
      "_________________________________________________________________\n",
      "block5_conv2 (Conv2D)        (None, 14, 14, 512)       2359808   \n",
      "_________________________________________________________________\n",
      "block5_conv3 (Conv2D)        (None, 14, 14, 512)       2359808   \n",
      "_________________________________________________________________\n",
      "block5_conv4 (Conv2D)        (None, 14, 14, 512)       2359808   \n",
      "_________________________________________________________________\n",
      "block5_pool (MaxPooling2D)   (None, 7, 7, 512)         0         \n",
      "_________________________________________________________________\n",
      "flatten (Flatten)            (None, 25088)             0         \n",
      "_________________________________________________________________\n",
      "dense (Dense)                (None, 2)                 50178     \n",
      "=================================================================\n",
      "Total params: 20,074,562\n",
      "Trainable params: 50,178\n",
      "Non-trainable params: 20,024,384\n",
      "_________________________________________________________________\n"
     ]
    }
   ],
   "source": [
    "# view the structure of the model\n",
    "model.summary()"
   ]
  },
  {
   "cell_type": "code",
   "execution_count": 11,
   "id": "26537fe8",
   "metadata": {},
   "outputs": [],
   "source": [
    "# tell the model what cost and optimization method to use\n",
    "model.compile(\n",
    "  loss='categorical_crossentropy',\n",
    "  optimizer='adam',\n",
    "  metrics=['accuracy']\n",
    ")"
   ]
  },
  {
   "cell_type": "markdown",
   "id": "a635c18a",
   "metadata": {},
   "source": [
    "## Data Preprocessing of training set and testing set"
   ]
  },
  {
   "cell_type": "code",
   "execution_count": 12,
   "id": "7580f0f8",
   "metadata": {},
   "outputs": [],
   "source": [
    "# Use the Image Data Generator to import the images from the dataset\n",
    "from tensorflow.keras.preprocessing.image import ImageDataGenerator\n",
    "\n",
    "train_datagen = ImageDataGenerator(rescale = 1./255,\n",
    "                                   shear_range = 0.2,\n",
    "                                   zoom_range = 0.2,\n",
    "                                   horizontal_flip = True)\n",
    "\n",
    "test_datagen = ImageDataGenerator(rescale = 1./255)"
   ]
  },
  {
   "cell_type": "code",
   "execution_count": 13,
   "id": "3de07e70",
   "metadata": {},
   "outputs": [
    {
     "name": "stdout",
     "output_type": "stream",
     "text": [
      "Found 416 images belonging to 2 classes.\n"
     ]
    }
   ],
   "source": [
    "# Make sure you provide the same target size as initialied for the image size\n",
    "training_set = train_datagen.flow_from_directory(train_path,\n",
    "                                                 target_size = (224, 224),\n",
    "                                                 batch_size = 64,\n",
    "                                                 class_mode = 'categorical')"
   ]
  },
  {
   "cell_type": "code",
   "execution_count": 14,
   "id": "c433f154",
   "metadata": {},
   "outputs": [
    {
     "name": "stdout",
     "output_type": "stream",
     "text": [
      "Found 134 images belonging to 2 classes.\n"
     ]
    }
   ],
   "source": [
    "test_set = test_datagen.flow_from_directory(valid_path,\n",
    "                                            target_size = (224, 224),\n",
    "                                            batch_size = 64,\n",
    "                                            class_mode = 'categorical')"
   ]
  },
  {
   "cell_type": "code",
   "execution_count": 15,
   "id": "3b48f5f3",
   "metadata": {},
   "outputs": [
    {
     "name": "stderr",
     "output_type": "stream",
     "text": [
      "E:\\Anaconda\\envs\\tf-gpu\\lib\\site-packages\\tensorflow\\python\\keras\\engine\\training.py:1940: UserWarning: `Model.fit_generator` is deprecated and will be removed in a future version. Please use `Model.fit`, which supports generators.\n",
      "  warnings.warn('`Model.fit_generator` is deprecated and '\n"
     ]
    },
    {
     "name": "stdout",
     "output_type": "stream",
     "text": [
      "Epoch 1/25\n",
      "7/7 [==============================] - 39s 3s/step - loss: 2.0041 - accuracy: 0.5192 - val_loss: 1.1845 - val_accuracy: 0.3507\n",
      "Epoch 2/25\n",
      "7/7 [==============================] - 6s 801ms/step - loss: 1.2752 - accuracy: 0.5144 - val_loss: 0.8642 - val_accuracy: 0.6791\n",
      "Epoch 3/25\n",
      "7/7 [==============================] - 6s 800ms/step - loss: 0.7579 - accuracy: 0.6322 - val_loss: 0.6409 - val_accuracy: 0.6716\n",
      "Epoch 4/25\n",
      "7/7 [==============================] - 6s 752ms/step - loss: 0.6177 - accuracy: 0.6707 - val_loss: 1.0596 - val_accuracy: 0.5075\n",
      "Epoch 5/25\n",
      "7/7 [==============================] - 6s 847ms/step - loss: 0.5558 - accuracy: 0.7043 - val_loss: 0.6419 - val_accuracy: 0.6866\n",
      "Epoch 6/25\n",
      "7/7 [==============================] - 6s 810ms/step - loss: 0.4309 - accuracy: 0.8077 - val_loss: 0.5171 - val_accuracy: 0.6791\n",
      "Epoch 7/25\n",
      "7/7 [==============================] - 6s 855ms/step - loss: 0.3804 - accuracy: 0.8269 - val_loss: 0.4987 - val_accuracy: 0.7687\n",
      "Epoch 8/25\n",
      "7/7 [==============================] - 6s 790ms/step - loss: 0.3132 - accuracy: 0.8894 - val_loss: 0.4964 - val_accuracy: 0.7687\n",
      "Epoch 9/25\n",
      "7/7 [==============================] - 6s 793ms/step - loss: 0.3039 - accuracy: 0.8870 - val_loss: 0.4960 - val_accuracy: 0.7463\n",
      "Epoch 10/25\n",
      "7/7 [==============================] - 6s 797ms/step - loss: 0.3199 - accuracy: 0.8702 - val_loss: 0.3951 - val_accuracy: 0.8358\n",
      "Epoch 11/25\n",
      "7/7 [==============================] - 6s 804ms/step - loss: 0.2887 - accuracy: 0.8942 - val_loss: 0.4245 - val_accuracy: 0.7090\n",
      "Epoch 12/25\n",
      "7/7 [==============================] - 6s 751ms/step - loss: 0.2974 - accuracy: 0.8798 - val_loss: 0.3794 - val_accuracy: 0.8358\n",
      "Epoch 13/25\n",
      "7/7 [==============================] - 6s 799ms/step - loss: 0.2445 - accuracy: 0.9207 - val_loss: 0.3795 - val_accuracy: 0.8358\n",
      "Epoch 14/25\n",
      "7/7 [==============================] - 6s 794ms/step - loss: 0.2368 - accuracy: 0.9279 - val_loss: 0.4142 - val_accuracy: 0.7985\n",
      "Epoch 15/25\n",
      "7/7 [==============================] - 6s 789ms/step - loss: 0.2364 - accuracy: 0.9207 - val_loss: 0.3599 - val_accuracy: 0.8657\n",
      "Epoch 16/25\n",
      "7/7 [==============================] - 6s 792ms/step - loss: 0.2315 - accuracy: 0.9062 - val_loss: 0.5677 - val_accuracy: 0.7015\n",
      "Epoch 17/25\n",
      "7/7 [==============================] - 6s 793ms/step - loss: 0.2322 - accuracy: 0.9135 - val_loss: 0.3903 - val_accuracy: 0.8060\n",
      "Epoch 18/25\n",
      "7/7 [==============================] - 6s 792ms/step - loss: 0.2196 - accuracy: 0.9399 - val_loss: 0.3238 - val_accuracy: 0.8806\n",
      "Epoch 19/25\n",
      "7/7 [==============================] - 6s 745ms/step - loss: 0.2158 - accuracy: 0.9255 - val_loss: 0.3282 - val_accuracy: 0.9030\n",
      "Epoch 20/25\n",
      "7/7 [==============================] - 6s 748ms/step - loss: 0.2081 - accuracy: 0.9327 - val_loss: 0.3160 - val_accuracy: 0.8955\n",
      "Epoch 21/25\n",
      "7/7 [==============================] - 6s 845ms/step - loss: 0.1932 - accuracy: 0.9423 - val_loss: 0.3346 - val_accuracy: 0.8731\n",
      "Epoch 22/25\n",
      "7/7 [==============================] - 6s 794ms/step - loss: 0.2021 - accuracy: 0.9351 - val_loss: 0.4282 - val_accuracy: 0.7612\n",
      "Epoch 23/25\n",
      "7/7 [==============================] - 6s 795ms/step - loss: 0.1785 - accuracy: 0.9399 - val_loss: 0.3235 - val_accuracy: 0.8731\n",
      "Epoch 24/25\n",
      "7/7 [==============================] - 6s 797ms/step - loss: 0.1828 - accuracy: 0.9351 - val_loss: 0.2956 - val_accuracy: 0.9030\n",
      "Epoch 25/25\n",
      "7/7 [==============================] - 6s 797ms/step - loss: 0.1799 - accuracy: 0.9447 - val_loss: 0.2867 - val_accuracy: 0.8955\n"
     ]
    }
   ],
   "source": [
    "# fit the model\n",
    "# Run the cell. It will take some time to execute\n",
    "his = model.fit_generator(\n",
    "  training_set,\n",
    "  validation_data=test_set,\n",
    "  epochs=25,\n",
    "  steps_per_epoch=len(training_set),\n",
    "  validation_steps=len(test_set)\n",
    ")"
   ]
  },
  {
   "cell_type": "code",
   "execution_count": 16,
   "id": "8e0e1800",
   "metadata": {},
   "outputs": [
    {
     "data": {
      "image/png": "[encoded data removed]",
      "text/plain": [
       "<Figure size 640x480 with 1 Axes>"
      ]
     },
     "metadata": {},
     "output_type": "display_data"
    },
    {
     "data": {
      "image/png": "[encoded data removed]",
      "text/plain": [
       "<Figure size 640x480 with 1 Axes>"
      ]
     },
     "metadata": {},
     "output_type": "display_data"
    }
   ],
   "source": [
    "#plot the training and validation accuracy and loss at each epoch\n",
    "loss = his.history['loss']\n",
    "val_loss = his.history['val_loss']\n",
    "epochs = range(1, len(loss) + 1)\n",
    "plt.plot(epochs, loss, 'y', label='Training loss')\n",
    "plt.plot(epochs, val_loss, 'r', label='Validation loss')\n",
    "plt.title('Training and validation loss')\n",
    "plt.xlabel('Epochs')\n",
    "plt.ylabel('Loss')\n",
    "plt.legend()\n",
    "plt.show()\n",
    "\n",
    "\n",
    "acc = his.history['accuracy']\n",
    "val_acc = his.history['val_accuracy']\n",
    "plt.plot(epochs, acc, 'y', label='Training acc')\n",
    "plt.plot(epochs, val_acc, 'r', label='Validation acc')\n",
    "plt.title('Training and validation accuracy')\n",
    "plt.xlabel('Epochs')\n",
    "plt.ylabel('Accuracy')\n",
    "plt.legend()\n",
    "plt.show()"
   ]
  },
  {
   "cell_type": "markdown",
   "id": "3d5e841d",
   "metadata": {},
   "source": [
    "## Image prediction"
   ]
  },
  {
   "cell_type": "code",
   "execution_count": 17,
   "id": "bd2132fe",
   "metadata": {},
   "outputs": [],
   "source": [
    "# save it as a h5 file\n",
    "\n",
    "\n",
    "from tensorflow.keras.models import load_model\n",
    "\n",
    "model.save('model_VGG16_CNN_Malaria.h5')"
   ]
  },
  {
   "cell_type": "code",
   "execution_count": 18,
   "id": "deef7c9b",
   "metadata": {},
   "outputs": [
    {
     "data": {
      "text/plain": [
       "array([1, 1, 1, 1, 1, 0, 0, 0, 0, 1, 0, 0, 1, 0, 0, 0, 1, 0, 0, 0, 0, 0,\n",
       "       0, 0, 0, 0, 1, 1, 0, 0, 1, 0, 0, 0, 1, 0, 0, 1, 0, 0, 0, 1, 0, 0,\n",
       "       0, 0, 0, 0, 0, 1, 1, 1, 0, 0, 0, 0, 1, 0, 0, 0, 1, 0, 1, 0, 1, 1,\n",
       "       0, 0, 0, 0, 1, 0, 1, 1, 1, 0, 0, 0, 0, 1, 0, 0, 0, 0, 1, 0, 0, 0,\n",
       "       1, 0, 0, 0, 0, 0, 1, 1, 0, 0, 1, 0, 1, 1, 1, 0, 0, 0, 0, 0, 1, 0,\n",
       "       0, 0, 1, 1, 1, 1, 1, 0, 1, 0, 0, 0, 0, 0, 0, 0, 1, 1, 0, 0, 1, 1,\n",
       "       1, 0], dtype=int64)"
      ]
     },
     "execution_count": 18,
     "metadata": {},
     "output_type": "execute_result"
    }
   ],
   "source": [
    "y_pred = model.predict(test_set)\n",
    "\n",
    "import numpy as np\n",
    "y_pred = np.argmax(y_pred, axis=1)\n",
    "y_pred"
   ]
  },
  {
   "cell_type": "code",
   "execution_count": 19,
   "id": "265faac2",
   "metadata": {},
   "outputs": [],
   "source": [
    "from tensorflow.keras.models import load_model\n",
    "from tensorflow.keras.preprocessing import image\n",
    "\n",
    "model=load_model('model_VGG16_CNN_Malaria.h5')"
   ]
  },
  {
   "cell_type": "code",
   "execution_count": 20,
   "id": "8122cabe",
   "metadata": {},
   "outputs": [
    {
     "data": {
      "text/plain": [
       "array([[[0., 0., 0.],\n",
       "        [0., 0., 0.],\n",
       "        [0., 0., 0.],\n",
       "        ...,\n",
       "        [0., 0., 0.],\n",
       "        [0., 0., 0.],\n",
       "        [0., 0., 0.]],\n",
       "\n",
       "       [[0., 0., 0.],\n",
       "        [0., 0., 0.],\n",
       "        [0., 0., 0.],\n",
       "        ...,\n",
       "        [0., 0., 0.],\n",
       "        [0., 0., 0.],\n",
       "        [0., 0., 0.]],\n",
       "\n",
       "       [[0., 0., 0.],\n",
       "        [0., 0., 0.],\n",
       "        [0., 0., 0.],\n",
       "        ...,\n",
       "        [0., 0., 0.],\n",
       "        [0., 0., 0.],\n",
       "        [0., 0., 0.]],\n",
       "\n",
       "       ...,\n",
       "\n",
       "       [[0., 0., 0.],\n",
       "        [0., 0., 0.],\n",
       "        [0., 0., 0.],\n",
       "        ...,\n",
       "        [0., 0., 0.],\n",
       "        [0., 0., 0.],\n",
       "        [0., 0., 0.]],\n",
       "\n",
       "       [[0., 0., 0.],\n",
       "        [0., 0., 0.],\n",
       "        [0., 0., 0.],\n",
       "        ...,\n",
       "        [0., 0., 0.],\n",
       "        [0., 0., 0.],\n",
       "        [0., 0., 0.]],\n",
       "\n",
       "       [[0., 0., 0.],\n",
       "        [0., 0., 0.],\n",
       "        [0., 0., 0.],\n",
       "        ...,\n",
       "        [0., 0., 0.],\n",
       "        [0., 0., 0.],\n",
       "        [0., 0., 0.]]], dtype=float32)"
      ]
     },
     "execution_count": 20,
     "metadata": {},
     "output_type": "execute_result"
    }
   ],
   "source": [
    "img_path = r\"E:\\Malaria Dataset\\cell_images\\Test\\Parasitized\\C39P4thinF_original_IMG_20150622_110115_cell_136.png\"\n",
    "img=image.load_img(img_path,target_size=(224,224))\n",
    "x=image.img_to_array(img)\n",
    "x"
   ]
  },
  {
   "cell_type": "code",
   "execution_count": 21,
   "id": "ef413de7",
   "metadata": {},
   "outputs": [
    {
     "data": {
      "text/plain": [
       "(224, 224, 3)"
      ]
     },
     "execution_count": 21,
     "metadata": {},
     "output_type": "execute_result"
    }
   ],
   "source": [
    "x.shape"
   ]
  },
  {
   "cell_type": "code",
   "execution_count": 22,
   "id": "7e611c80",
   "metadata": {},
   "outputs": [
    {
     "data": {
      "text/plain": [
       "(1, 224, 224, 3)"
      ]
     },
     "execution_count": 22,
     "metadata": {},
     "output_type": "execute_result"
    }
   ],
   "source": [
    "x=x/255\n",
    "x=np.expand_dims(x,axis=0)\n",
    "img = np.reshape(x,[1,224,224,3])\n",
    "img.shape"
   ]
  },
  {
   "cell_type": "code",
   "execution_count": 23,
   "id": "1a60a7a4",
   "metadata": {},
   "outputs": [
    {
     "data": {
      "text/plain": [
       "array([[9.9909770e-01, 9.0231554e-04]], dtype=float32)"
      ]
     },
     "execution_count": 23,
     "metadata": {},
     "output_type": "execute_result"
    }
   ],
   "source": [
    "model.predict(img)"
   ]
  },
  {
   "cell_type": "code",
   "execution_count": 24,
   "id": "0f2922f6",
   "metadata": {},
   "outputs": [
    {
     "name": "stdout",
     "output_type": "stream",
     "text": [
      "Infected\n"
     ]
    }
   ],
   "source": [
    "a=np.argmax(model.predict(img), axis=1)\n",
    "if(a==1):\n",
    "    print(\"Uninfected\")\n",
    "else:\n",
    "    print(\"Infected\")\n"
   ]
  },
  {
   "cell_type": "markdown",
   "id": "655fdf46",
   "metadata": {},
   "source": [
    "## Confusion Matrix"
   ]
  },
  {
   "cell_type": "code",
   "execution_count": 25,
   "id": "da5c5fc7",
   "metadata": {},
   "outputs": [
    {
     "data": {
      "image/png": "[encoded data removed]",
      "text/plain": [
       "<Figure size 640x480 with 1 Axes>"
      ]
     },
     "metadata": {},
     "output_type": "display_data"
    }
   ],
   "source": [
    "from mlxtend.plotting import plot_confusion_matrix\n",
    "from sklearn.metrics import confusion_matrix\n",
    "\n",
    "\n",
    "#rounded_predictions = model.predict(test_set, batch_size=128, verbose=0)\n",
    "\n",
    "import numpy as np\n",
    "#rounded_labels=np.argmax(test_set.classes, axis=1)\n",
    "\n",
    "\n",
    "from sklearn.metrics import confusion_matrix\n",
    "cm = confusion_matrix(test_set.classes, y_pred)\n",
    "plot_confusion_matrix(conf_mat=cm)\n",
    "\n",
    "plt.show()"
   ]
  }
 ],
 "metadata": {
  "kernelspec": {
   "display_name": "tf-gpu",
   "language": "python",
   "name": "tf-gpu"
  },
  "language_info": {
   "codemirror_mode": {
    "name": "ipython",
    "version": 3
   },
   "file_extension": ".py",
   "mimetype": "text/x-python",
   "name": "python",
   "nbconvert_exporter": "python",
   "pygments_lexer": "ipython3",
   "version": "3.8.11"
  }
 },
 "nbformat": 4,
 "nbformat_minor": 5
}
